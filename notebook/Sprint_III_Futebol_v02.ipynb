{
 "cells": [
  {
   "cell_type": "markdown",
   "metadata": {
    "application/vnd.databricks.v1+cell": {
     "cellMetadata": {
      "byteLimit": 2048000,
      "rowLimit": 10000
     },
     "inputWidgets": {},
     "nuid": "d74d1f55-443e-44b1-b147-753a99b6bbcd",
     "showTitle": false,
     "tableResultSettingsMap": {},
     "title": ""
    }
   },
   "source": [
    "# MVP – Engenharia de Dados | Premier League (Databricks)"
   ]
  },
  {
   "cell_type": "markdown",
   "metadata": {
    "application/vnd.databricks.v1+cell": {
     "cellMetadata": {
      "byteLimit": 2048000,
      "rowLimit": 10000
     },
     "inputWidgets": {},
     "nuid": "b69117b0-e1cc-47b6-bf46-0902e19be9df",
     "showTitle": false,
     "tableResultSettingsMap": {},
     "title": ""
    }
   },
   "source": [
    "_Objetivo_\n",
    "\n",
    "Este projeto tem como objetivo desenvolver um pipeline de dados na nuvem, utilizando a plataforma Databricks Community Edition, para realizar o tratamento, modelagem, análise e visualização de dados de partidas da Premier League (campeonato inglês de futebol).\n",
    "\n",
    "_Problema de Negócio_\n",
    "\n",
    "O foco da análise é responder à seguinte pergunta central:\n",
    "\n",
    "“É possível prever se um time vencerá, empatará ou perderá uma partida com base em estatísticas históricas?”\n",
    "\n",
    "Além disso, o projeto explora outras perguntas auxiliares, como:\n",
    "\n",
    "Quais times mandantes mais venceram nos últimos campeonatos?\n",
    "\n",
    "Existe diferença significativa de posse de bola entre mandantes e visitantes?\n",
    "\n",
    "Visitantes recebem mais cartões vermelhos que mandantes?"
   ]
  },
  {
   "cell_type": "code",
   "execution_count": 0,
   "metadata": {
    "application/vnd.databricks.v1+cell": {
     "cellMetadata": {
      "byteLimit": 2048000,
      "rowLimit": 10000
     },
     "inputWidgets": {},
     "nuid": "41c3429f-b3f6-4834-b250-49ed2c33b444",
     "showTitle": false,
     "tableResultSettingsMap": {},
     "title": ""
    }
   },
   "outputs": [],
   "source": [
    "# Importando bibliotecas necessárias\n",
    "from pyspark.sql import SparkSession\n",
    "from pyspark.sql.functions import col\n",
    "\n",
    "# Criando a sessão do Spark (já é criada automaticamente no Databricks)\n",
    "spark = SparkSession.builder.appName(\"PremierLeagueETL\").getOrCreate()\n",
    "\n",
    "# Caminho onde o arquivo CSV foi carregado no Databricks (Altere conforme o upload do seu arquivo)\n",
    "file_path = \"/FileStore/shared_uploads/vrodrigues@newfields.com.br/df_full_premierleague.csv\"\n",
    "\n",
    "# Carregando o dataset em um DataFrame do PySpark\n",
    "df = spark.read.format(\"csv\") \\\n",
    "    .option(\"header\", \"true\") \\\n",
    "    .option(\"inferSchema\", \"true\") \\\n",
    "    .load(file_path)\n",
    "\n",
    "# Exibindo as primeiras linhas do DataFrame\n",
    "# df.show(5)\n"
   ]
  },
  {
   "cell_type": "markdown",
   "metadata": {
    "application/vnd.databricks.v1+cell": {
     "cellMetadata": {
      "byteLimit": 2048000,
      "rowLimit": 10000
     },
     "inputWidgets": {},
     "nuid": "53eeb8ef-7ee4-415c-8b57-b8d944dbec87",
     "showTitle": false,
     "tableResultSettingsMap": {},
     "title": ""
    }
   },
   "source": [
    "## Verificando o Schema"
   ]
  },
  {
   "cell_type": "code",
   "execution_count": 0,
   "metadata": {
    "application/vnd.databricks.v1+cell": {
     "cellMetadata": {
      "byteLimit": 2048000,
      "rowLimit": 10000
     },
     "inputWidgets": {},
     "nuid": "efd9cc01-ac4f-499d-b644-14c2326cbbd2",
     "showTitle": false,
     "tableResultSettingsMap": {},
     "title": ""
    }
   },
   "outputs": [],
   "source": [
    "df.printSchema()"
   ]
  },
  {
   "cell_type": "code",
   "execution_count": 0,
   "metadata": {
    "application/vnd.databricks.v1+cell": {
     "cellMetadata": {
      "byteLimit": 2048000,
      "rowLimit": 10000
     },
     "inputWidgets": {},
     "nuid": "c1c5b989-e85f-4ea7-9d4f-39b29373f10d",
     "showTitle": false,
     "tableResultSettingsMap": {},
     "title": ""
    }
   },
   "outputs": [],
   "source": [
    "df.limit(10).toPandas()"
   ]
  },
  {
   "cell_type": "markdown",
   "metadata": {
    "application/vnd.databricks.v1+cell": {
     "cellMetadata": {
      "byteLimit": 2048000,
      "rowLimit": 10000
     },
     "inputWidgets": {},
     "nuid": "e00c4e90-8107-48dd-8969-7cded9e219fe",
     "showTitle": false,
     "tableResultSettingsMap": {},
     "title": ""
    }
   },
   "source": [
    "## Limpar e Transformar os Dados"
   ]
  },
  {
   "cell_type": "markdown",
   "metadata": {
    "application/vnd.databricks.v1+cell": {
     "cellMetadata": {
      "byteLimit": 2048000,
      "rowLimit": 10000
     },
     "inputWidgets": {},
     "nuid": "bd7b2042-2af8-48bf-b07c-bce8cffba0ba",
     "showTitle": false,
     "tableResultSettingsMap": {},
     "title": ""
    }
   },
   "source": [
    "Certificando que a coluna de Data está no tipo certo."
   ]
  },
  {
   "cell_type": "code",
   "execution_count": 0,
   "metadata": {
    "application/vnd.databricks.v1+cell": {
     "cellMetadata": {
      "byteLimit": 2048000,
      "rowLimit": 10000
     },
     "inputWidgets": {},
     "nuid": "54e15b38-eaa5-4baf-8c1c-1ad8eefe8fbc",
     "showTitle": false,
     "tableResultSettingsMap": {},
     "title": ""
    }
   },
   "outputs": [],
   "source": [
    "from pyspark.sql.functions import to_date\n",
    "\n",
    "df = df.withColumn(\"date\", to_date(df[\"date\"], \"yyyy-MM-dd\"))"
   ]
  },
  {
   "cell_type": "markdown",
   "metadata": {
    "application/vnd.databricks.v1+cell": {
     "cellMetadata": {
      "byteLimit": 2048000,
      "rowLimit": 10000
     },
     "inputWidgets": {},
     "nuid": "4f905bd4-e5bc-4e1d-b539-e329c8312214",
     "showTitle": false,
     "tableResultSettingsMap": {},
     "title": ""
    }
   },
   "source": [
    "Removendo valores nulos."
   ]
  },
  {
   "cell_type": "code",
   "execution_count": 0,
   "metadata": {
    "application/vnd.databricks.v1+cell": {
     "cellMetadata": {
      "byteLimit": 2048000,
      "rowLimit": 10000
     },
     "inputWidgets": {},
     "nuid": "4537de75-182d-4003-9cd5-cb20407e62e3",
     "showTitle": false,
     "tableResultSettingsMap": {},
     "title": ""
    }
   },
   "outputs": [],
   "source": [
    "df = df.dropna()"
   ]
  },
  {
   "cell_type": "markdown",
   "metadata": {
    "application/vnd.databricks.v1+cell": {
     "cellMetadata": {
      "byteLimit": 2048000,
      "rowLimit": 10000
     },
     "inputWidgets": {},
     "nuid": "cdb9a44e-4224-4c17-aa3b-7e8a6f73bb34",
     "showTitle": false,
     "tableResultSettingsMap": {},
     "title": ""
    }
   },
   "source": [
    "Salvando no formato Parquet (melhor para análise e performance)"
   ]
  },
  {
   "cell_type": "code",
   "execution_count": 0,
   "metadata": {
    "application/vnd.databricks.v1+cell": {
     "cellMetadata": {
      "byteLimit": 2048000,
      "rowLimit": 10000
     },
     "inputWidgets": {},
     "nuid": "9d43b9c3-5667-4a21-9280-872abc69bf0b",
     "showTitle": false,
     "tableResultSettingsMap": {},
     "title": ""
    }
   },
   "outputs": [],
   "source": [
    "df.write.mode(\"overwrite\").parquet(\"/FileStore/tables/premier_league_clean.parquet\")"
   ]
  },
  {
   "cell_type": "markdown",
   "metadata": {
    "application/vnd.databricks.v1+cell": {
     "cellMetadata": {
      "byteLimit": 2048000,
      "rowLimit": 10000
     },
     "inputWidgets": {},
     "nuid": "556b7b75-34d4-425b-b0ed-54e901b91dee",
     "showTitle": false,
     "tableResultSettingsMap": {},
     "title": ""
    }
   },
   "source": [
    "Como tabela SQL"
   ]
  },
  {
   "cell_type": "code",
   "execution_count": 0,
   "metadata": {
    "application/vnd.databricks.v1+cell": {
     "cellMetadata": {
      "byteLimit": 2048000,
      "rowLimit": 10000
     },
     "inputWidgets": {},
     "nuid": "95ca14ac-5698-49a3-a8b7-d3b5a5d80a04",
     "showTitle": false,
     "tableResultSettingsMap": {},
     "title": ""
    }
   },
   "outputs": [],
   "source": [
    "df.write.mode(\"overwrite\").saveAsTable(\"premier_league_clean\")"
   ]
  },
  {
   "cell_type": "markdown",
   "metadata": {
    "application/vnd.databricks.v1+cell": {
     "cellMetadata": {
      "byteLimit": 2048000,
      "rowLimit": 10000
     },
     "inputWidgets": {},
     "nuid": "03ad11d0-8add-44d0-8094-bebc863b6955",
     "showTitle": false,
     "tableResultSettingsMap": {},
     "title": ""
    }
   },
   "source": [
    "Consultando a tabela SQL"
   ]
  },
  {
   "cell_type": "code",
   "execution_count": 0,
   "metadata": {
    "application/vnd.databricks.v1+cell": {
     "cellMetadata": {
      "byteLimit": 2048000,
      "implicitDf": true,
      "rowLimit": 10000
     },
     "inputWidgets": {},
     "nuid": "b28a1d9a-97f9-4562-a248-d3bab00fe6ad",
     "showTitle": false,
     "tableResultSettingsMap": {},
     "title": ""
    }
   },
   "outputs": [],
   "source": [
    "%sql\n",
    "SELECT * FROM premier_league_clean LIMIT 10;"
   ]
  },
  {
   "cell_type": "markdown",
   "metadata": {
    "application/vnd.databricks.v1+cell": {
     "cellMetadata": {
      "byteLimit": 2048000,
      "rowLimit": 10000
     },
     "inputWidgets": {},
     "nuid": "fa2ddbc2-2644-4ffe-a202-cee3aee828e1",
     "showTitle": false,
     "tableResultSettingsMap": {},
     "title": ""
    }
   },
   "source": [
    "##  Dimensão Tempo"
   ]
  },
  {
   "cell_type": "code",
   "execution_count": 0,
   "metadata": {
    "application/vnd.databricks.v1+cell": {
     "cellMetadata": {
      "byteLimit": 2048000,
      "rowLimit": 10000
     },
     "inputWidgets": {},
     "nuid": "aab572c7-be7f-48f3-803f-38f1ff564d21",
     "showTitle": false,
     "tableResultSettingsMap": {},
     "title": ""
    }
   },
   "outputs": [],
   "source": [
    "from pyspark.sql.functions import year, month, dayofmonth, date_format, monotonically_increasing_id\n",
    "\n",
    "# Carregar a base\n",
    "df_clean = spark.table(\"premier_league_clean\")\n",
    "\n",
    "# Criar a dim_tempo\n",
    "dim_tempo_df = (\n",
    "    df_clean\n",
    "    .select(\"date\")\n",
    "    .dropna()\n",
    "    .dropDuplicates()\n",
    "    .withColumn(\"ano\", year(\"date\"))\n",
    "    .withColumn(\"mes\", month(\"date\"))\n",
    "    .withColumn(\"dia\", dayofmonth(\"date\"))\n",
    "    .withColumn(\"dia_semana\", date_format(\"date\", \"EEEE\"))\n",
    "    .withColumn(\"id_tempo\", monotonically_increasing_id())\n",
    ")\n",
    "\n",
    "# Reorganizar colunas\n",
    "dim_tempo_df = dim_tempo_df.select(\"id_tempo\", \"date\", \"ano\", \"mes\", \"dia\", \"dia_semana\")\n",
    "\n",
    "# Salvar\n",
    "dim_tempo_df.write \\\n",
    "    .format(\"delta\") \\\n",
    "    .option(\"overwriteSchema\", \"true\") \\\n",
    "    .mode(\"overwrite\") \\\n",
    "    .saveAsTable(\"dim_tempo\")\n",
    "\n",
    "# Visualiza a dimensão\n",
    "# display(dim_tempo_df)\n"
   ]
  },
  {
   "cell_type": "code",
   "execution_count": 0,
   "metadata": {
    "application/vnd.databricks.v1+cell": {
     "cellMetadata": {
      "byteLimit": 2048000,
      "rowLimit": 10000
     },
     "inputWidgets": {},
     "nuid": "711ba7ab-9583-4471-b62a-b603f9a9b960",
     "showTitle": false,
     "tableResultSettingsMap": {},
     "title": ""
    }
   },
   "outputs": [],
   "source": [
    "display(df_clean)"
   ]
  },
  {
   "cell_type": "markdown",
   "metadata": {
    "application/vnd.databricks.v1+cell": {
     "cellMetadata": {
      "byteLimit": 2048000,
      "rowLimit": 10000
     },
     "inputWidgets": {},
     "nuid": "3803940b-1ab7-449f-b923-2469a60d0329",
     "showTitle": false,
     "tableResultSettingsMap": {},
     "title": ""
    }
   },
   "source": [
    "## Dimensão Time"
   ]
  },
  {
   "cell_type": "code",
   "execution_count": 0,
   "metadata": {
    "application/vnd.databricks.v1+cell": {
     "cellMetadata": {
      "byteLimit": 2048000,
      "rowLimit": 10000
     },
     "inputWidgets": {},
     "nuid": "f76e830c-90af-405b-9ba9-1ef851a8c014",
     "showTitle": false,
     "tableResultSettingsMap": {},
     "title": ""
    }
   },
   "outputs": [],
   "source": [
    "spark.sql(\"DROP TABLE IF EXISTS dim_time\")"
   ]
  },
  {
   "cell_type": "code",
   "execution_count": 0,
   "metadata": {
    "application/vnd.databricks.v1+cell": {
     "cellMetadata": {
      "byteLimit": 2048000,
      "rowLimit": 10000
     },
     "inputWidgets": {},
     "nuid": "780aa6ce-6c4f-4695-8a00-44b5933f856d",
     "showTitle": false,
     "tableResultSettingsMap": {},
     "title": ""
    }
   },
   "outputs": [],
   "source": [
    "from pyspark.sql.functions import col, monotonically_increasing_id\n",
    "\n",
    "# Recriar a lista única de times\n",
    "home_teams = df_clean.select(col(\"home_team\").alias(\"nome_time\"))\n",
    "away_teams = df_clean.select(col(\"away_team\").alias(\"nome_time\"))\n",
    "dim_time_df = home_teams.union(away_teams).distinct()\n",
    "\n",
    "# Criar coluna de ID\n",
    "dim_time_df = dim_time_df.withColumn(\"id_time\", monotonically_increasing_id())\n",
    "\n",
    "# Reorganizar colunas\n",
    "dim_time_df = dim_time_df.select(\"id_time\", \"nome_time\")\n",
    "\n",
    "# Salvar como tabela\n",
    "dim_time_df.write \\\n",
    "    .format(\"delta\") \\\n",
    "    .option(\"overwriteSchema\", \"true\") \\\n",
    "    .mode(\"overwrite\") \\\n",
    "    .saveAsTable(\"dim_time\")\n"
   ]
  },
  {
   "cell_type": "markdown",
   "metadata": {
    "application/vnd.databricks.v1+cell": {
     "cellMetadata": {
      "byteLimit": 2048000,
      "rowLimit": 10000
     },
     "inputWidgets": {},
     "nuid": "61ad672a-afed-4965-8b60-f5e0de20d802",
     "showTitle": false,
     "tableResultSettingsMap": {},
     "title": ""
    }
   },
   "source": [
    "Agregar estatísticas por time"
   ]
  },
  {
   "cell_type": "code",
   "execution_count": 0,
   "metadata": {
    "application/vnd.databricks.v1+cell": {
     "cellMetadata": {
      "byteLimit": 2048000,
      "rowLimit": 10000
     },
     "inputWidgets": {},
     "nuid": "0f61e865-662f-41f6-9df4-bb83a250d712",
     "showTitle": false,
     "tableResultSettingsMap": {},
     "title": ""
    }
   },
   "outputs": [],
   "source": [
    "import pyspark.sql.functions as F \n",
    "\n",
    "# Estatísticas selecionadas para cálculo\n",
    "stats_home = [\n",
    "    \"performance_acum_home\", \"shots_avg_home\", \"passes_avg_home\", \n",
    "    \"possession_avg_home\", \"goals_scored_ft_avg_home\", \"goals_conced_ft_avg_home\"\n",
    "]\n",
    "\n",
    "stats_away = [\n",
    "    \"performance_acum_away\", \"shots_avg_away\", \"passes_avg_away\", \n",
    "    \"possession_avg_away\", \"goals_scored_ft_avg_away\", \"goals_conced_ft_avg_away\"\n",
    "]\n",
    "\n",
    "# Agregar estatísticas de mandante\n",
    "agg_home = (\n",
    "    df.groupBy(\"home_team\")\n",
    "    .agg(*[F.avg(col).alias(f\"{col}_mean\") for col in stats_home])\n",
    "    .withColumnRenamed(\"home_team\", \"nome_time\")\n",
    ")\n",
    "\n",
    "# Agregar estatísticas de visitante\n",
    "agg_away = (\n",
    "    df.groupBy(\"away_team\")\n",
    "    .agg(*[F.avg(col).alias(f\"{col}_mean\") for col in stats_away])\n",
    "    .withColumnRenamed(\"away_team\", \"nome_time\")\n",
    ")\n",
    "\n",
    "# Unir estatísticas\n",
    "agg_all = agg_home.join(agg_away, on=\"nome_time\", how=\"outer\")\n",
    "\n",
    "# Juntar com lista de times\n",
    "dim_time_final = dim_time_df.join(agg_all, on=\"nome_time\", how=\"left\")\n",
    "\n"
   ]
  },
  {
   "cell_type": "markdown",
   "metadata": {
    "application/vnd.databricks.v1+cell": {
     "cellMetadata": {
      "byteLimit": 2048000,
      "rowLimit": 10000
     },
     "inputWidgets": {},
     "nuid": "432dccaa-dace-4e83-9d5e-85da7ed5ef37",
     "showTitle": false,
     "tableResultSettingsMap": {},
     "title": ""
    }
   },
   "source": [
    "Salvando como tabela no Databricks"
   ]
  },
  {
   "cell_type": "code",
   "execution_count": 0,
   "metadata": {
    "application/vnd.databricks.v1+cell": {
     "cellMetadata": {
      "byteLimit": 2048000,
      "rowLimit": 10000
     },
     "inputWidgets": {},
     "nuid": "335a04ce-8e5d-4769-8d9c-bfbcd2a2e161",
     "showTitle": false,
     "tableResultSettingsMap": {},
     "title": ""
    }
   },
   "outputs": [],
   "source": [
    "# Salvar como tabela Parquet\n",
    "dim_time_final.write.mode(\"overwrite\").format(\"parquet\").save(\"/mnt/datalake/dim_time\")\n",
    "\n",
    "# Registrar como tabela SQL\n",
    "spark.sql(\"DROP TABLE IF EXISTS dim_time\")\n",
    "spark.sql(\"CREATE TABLE dim_time USING PARQUET LOCATION '/mnt/datalake/dim_time'\")"
   ]
  },
  {
   "cell_type": "markdown",
   "metadata": {
    "application/vnd.databricks.v1+cell": {
     "cellMetadata": {
      "byteLimit": 2048000,
      "rowLimit": 10000
     },
     "inputWidgets": {},
     "nuid": "491075c8-6656-4166-9023-394c27f87e19",
     "showTitle": false,
     "tableResultSettingsMap": {},
     "title": ""
    }
   },
   "source": [
    "Verificar a dimensão no SQL\n"
   ]
  },
  {
   "cell_type": "code",
   "execution_count": 0,
   "metadata": {
    "application/vnd.databricks.v1+cell": {
     "cellMetadata": {
      "byteLimit": 2048000,
      "implicitDf": true,
      "rowLimit": 10000
     },
     "inputWidgets": {},
     "nuid": "2280eedd-721e-41e0-a14d-067612c95a22",
     "showTitle": false,
     "tableResultSettingsMap": {},
     "title": ""
    }
   },
   "outputs": [],
   "source": [
    "%sql\n",
    "SELECT * FROM dim_time LIMIT 10;"
   ]
  },
  {
   "cell_type": "markdown",
   "metadata": {
    "application/vnd.databricks.v1+cell": {
     "cellMetadata": {
      "byteLimit": 2048000,
      "rowLimit": 10000
     },
     "inputWidgets": {},
     "nuid": "7d947462-40d6-44af-ae07-728968c90fee",
     "showTitle": false,
     "tableResultSettingsMap": {},
     "title": ""
    }
   },
   "source": [
    "## Dimensão Local"
   ]
  },
  {
   "cell_type": "markdown",
   "metadata": {
    "application/vnd.databricks.v1+cell": {
     "cellMetadata": {
      "byteLimit": 2048000,
      "rowLimit": 10000
     },
     "inputWidgets": {},
     "nuid": "7a7ca8ad-0c38-4330-93a9-98863a661a6c",
     "showTitle": false,
     "tableResultSettingsMap": {},
     "title": ""
    }
   },
   "source": [
    "### Criar o DataFrame com os locais distintos"
   ]
  },
  {
   "cell_type": "code",
   "execution_count": 0,
   "metadata": {
    "application/vnd.databricks.v1+cell": {
     "cellMetadata": {
      "byteLimit": 2048000,
      "rowLimit": 10000
     },
     "inputWidgets": {},
     "nuid": "768977ab-188c-42d3-a9e0-47b2de05ebb2",
     "showTitle": false,
     "tableResultSettingsMap": {},
     "title": ""
    }
   },
   "outputs": [],
   "source": [
    "from pyspark.sql import SparkSession\n",
    "from pyspark.sql.types import StructType, StructField, IntegerType, StringType\n",
    "\n",
    "# Dados da dimensão local\n",
    "local_data = [\n",
    "    (1, \"Home\"),\n",
    "    (2, \"Away\")\n",
    "]\n",
    "\n",
    "# Esquema da tabela\n",
    "local_schema = StructType([\n",
    "    StructField(\"id_local\", IntegerType(), False),\n",
    "    StructField(\"desc_local\", StringType(), False)\n",
    "])\n",
    "\n",
    "# Criando DataFrame\n",
    "df_dim_local = spark.createDataFrame(local_data, schema=local_schema)\n",
    "\n",
    "# Mostrando\n",
    "df_dim_local.show()"
   ]
  },
  {
   "cell_type": "markdown",
   "metadata": {
    "application/vnd.databricks.v1+cell": {
     "cellMetadata": {
      "byteLimit": 2048000,
      "rowLimit": 10000
     },
     "inputWidgets": {},
     "nuid": "94c89e95-db88-44fa-9d8a-3dcc62b17d51",
     "showTitle": false,
     "tableResultSettingsMap": {},
     "title": ""
    }
   },
   "source": [
    "Salvar como Parquet e como Tabela SQL\n",
    "\n"
   ]
  },
  {
   "cell_type": "code",
   "execution_count": 0,
   "metadata": {
    "application/vnd.databricks.v1+cell": {
     "cellMetadata": {
      "byteLimit": 2048000,
      "rowLimit": 10000
     },
     "inputWidgets": {},
     "nuid": "89edf573-805a-48c6-8b61-01f9a1e349af",
     "showTitle": false,
     "tableResultSettingsMap": {},
     "title": ""
    }
   },
   "outputs": [],
   "source": [
    "# Salvar como Parquet\n",
    "df_dim_local.write.mode(\"overwrite\").parquet(\"/mnt/projeto_mvp/dim_local\")\n",
    "\n",
    "# Criar tabela SQL\n",
    "df_dim_local.write.mode(\"overwrite\").saveAsTable(\"dim_local\")"
   ]
  },
  {
   "cell_type": "code",
   "execution_count": 0,
   "metadata": {
    "application/vnd.databricks.v1+cell": {
     "cellMetadata": {
      "byteLimit": 2048000,
      "implicitDf": true,
      "rowLimit": 10000
     },
     "inputWidgets": {},
     "nuid": "2ed72b2d-e41e-4b9d-98b1-89331d6172ab",
     "showTitle": false,
     "tableResultSettingsMap": {},
     "title": ""
    }
   },
   "outputs": [],
   "source": [
    "%sql\n",
    "SELECT * FROM dim_local;"
   ]
  },
  {
   "cell_type": "markdown",
   "metadata": {
    "application/vnd.databricks.v1+cell": {
     "cellMetadata": {
      "byteLimit": 2048000,
      "rowLimit": 10000
     },
     "inputWidgets": {},
     "nuid": "b6379c1d-3336-44fa-882c-a982725d7718",
     "showTitle": false,
     "tableResultSettingsMap": {},
     "title": ""
    }
   },
   "source": [
    "# Dimensão Partidas"
   ]
  },
  {
   "cell_type": "code",
   "execution_count": 0,
   "metadata": {
    "application/vnd.databricks.v1+cell": {
     "cellMetadata": {
      "byteLimit": 2048000,
      "implicitDf": true,
      "rowLimit": 10000
     },
     "inputWidgets": {},
     "nuid": "0b025f5d-8e51-4bf1-8640-cf956900fc0c",
     "showTitle": false,
     "tableResultSettingsMap": {},
     "title": ""
    }
   },
   "outputs": [],
   "source": [
    "%sql\n",
    "SHOW TABLES;\n"
   ]
  },
  {
   "cell_type": "code",
   "execution_count": 0,
   "metadata": {
    "application/vnd.databricks.v1+cell": {
     "cellMetadata": {
      "byteLimit": 2048000,
      "rowLimit": 10000
     },
     "inputWidgets": {},
     "nuid": "7b4790d3-5723-4bf2-b9a0-51832e666eb8",
     "showTitle": false,
     "tableResultSettingsMap": {},
     "title": ""
    }
   },
   "outputs": [],
   "source": [
    "df_clean = spark.table(\"premier_league_clean\")\n",
    "df_clean.printSchema()\n",
    "df_clean.show(5)\n"
   ]
  },
  {
   "cell_type": "code",
   "execution_count": 0,
   "metadata": {
    "application/vnd.databricks.v1+cell": {
     "cellMetadata": {
      "byteLimit": 2048000,
      "rowLimit": 10000
     },
     "inputWidgets": {},
     "nuid": "9c251f68-00ae-486e-873a-9d2d1ef8d985",
     "showTitle": false,
     "tableResultSettingsMap": {},
     "title": ""
    }
   },
   "outputs": [],
   "source": [
    "spark.sql(\"DROP TABLE IF EXISTS dim_partida\")\n"
   ]
  },
  {
   "cell_type": "code",
   "execution_count": 0,
   "metadata": {
    "application/vnd.databricks.v1+cell": {
     "cellMetadata": {
      "byteLimit": 2048000,
      "rowLimit": 10000
     },
     "inputWidgets": {},
     "nuid": "913f98f5-867a-4646-9505-fcc3fdfc5cc7",
     "showTitle": false,
     "tableResultSettingsMap": {},
     "title": ""
    }
   },
   "outputs": [],
   "source": [
    "from pyspark.sql.functions import monotonically_increasing_id\n",
    "\n",
    "# Recriar a dimensão de partidas com ID\n",
    "dim_partida_df = df_clean.select(\n",
    "    \"link_match\", \"season\", \"date\", \"home_team\", \"away_team\", \"result_full\"\n",
    ").dropDuplicates()\n",
    "\n",
    "dim_partida_df = dim_partida_df.withColumn(\"id_partida\", monotonically_increasing_id())\n",
    "\n",
    "# Salvar como tabela\n",
    "dim_partida_df.write \\\n",
    "    .format(\"delta\") \\\n",
    "    .option(\"overwriteSchema\", \"true\") \\\n",
    "    .mode(\"overwrite\") \\\n",
    "    .saveAsTable(\"dim_partida\")\n"
   ]
  },
  {
   "cell_type": "code",
   "execution_count": 0,
   "metadata": {
    "application/vnd.databricks.v1+cell": {
     "cellMetadata": {
      "byteLimit": 2048000,
      "implicitDf": true,
      "rowLimit": 10000
     },
     "inputWidgets": {},
     "nuid": "8fd4711d-30ae-4ef5-a7cc-4ef433a9d899",
     "showTitle": false,
     "tableResultSettingsMap": {},
     "title": ""
    }
   },
   "outputs": [],
   "source": [
    "%sql\n",
    "SELECT * FROM dim_partida LIMIT 10;"
   ]
  },
  {
   "cell_type": "markdown",
   "metadata": {
    "application/vnd.databricks.v1+cell": {
     "cellMetadata": {
      "byteLimit": 2048000,
      "rowLimit": 10000
     },
     "inputWidgets": {},
     "nuid": "e3c5e469-b3d3-469e-9397-5bebfa2ff881",
     "showTitle": false,
     "tableResultSettingsMap": {},
     "title": ""
    }
   },
   "source": [
    "## Dimensão Fato"
   ]
  },
  {
   "cell_type": "code",
   "execution_count": 0,
   "metadata": {
    "application/vnd.databricks.v1+cell": {
     "cellMetadata": {
      "byteLimit": 2048000,
      "rowLimit": 10000
     },
     "inputWidgets": {},
     "nuid": "a01b62b0-e452-4b0c-b630-b8a33dda5701",
     "showTitle": false,
     "tableResultSettingsMap": {},
     "title": ""
    }
   },
   "outputs": [],
   "source": [
    "# Dataset principal\n",
    "df_clean = spark.table(\"premier_league_clean\")\n",
    "\n",
    "# Dimensões\n",
    "dim_time_df = spark.table(\"dim_time\")\n",
    "dim_local_df = spark.table(\"dim_local\")\n",
    "dim_tempo_df = spark.table(\"dim_tempo\") \n",
    "dim_partida_df = spark.table(\"dim_partida\")\n"
   ]
  },
  {
   "cell_type": "markdown",
   "metadata": {
    "application/vnd.databricks.v1+cell": {
     "cellMetadata": {
      "byteLimit": 2048000,
      "rowLimit": 10000
     },
     "inputWidgets": {},
     "nuid": "c173bad1-6111-4a95-af44-ad60642cc3db",
     "showTitle": false,
     "tableResultSettingsMap": {},
     "title": ""
    }
   },
   "source": [
    "### Criar a fato partida df"
   ]
  },
  {
   "cell_type": "code",
   "execution_count": 0,
   "metadata": {
    "application/vnd.databricks.v1+cell": {
     "cellMetadata": {
      "byteLimit": 2048000,
      "rowLimit": 10000
     },
     "inputWidgets": {},
     "nuid": "2d7ec68b-2dc9-4719-bb9e-72b3ad744628",
     "showTitle": false,
     "tableResultSettingsMap": {},
     "title": ""
    }
   },
   "outputs": [],
   "source": [
    "from pyspark.sql.functions import lit\n",
    "\n",
    "# Adicionar coluna para identificar o local (fixo como \"Home\")\n",
    "df_clean = df_clean.withColumn(\"local\", lit(\"Home\"))\n"
   ]
  },
  {
   "cell_type": "code",
   "execution_count": 0,
   "metadata": {
    "application/vnd.databricks.v1+cell": {
     "cellMetadata": {
      "byteLimit": 2048000,
      "rowLimit": 10000
     },
     "inputWidgets": {},
     "nuid": "050edf3e-95b7-40d7-b0e3-7c07b856bee3",
     "showTitle": false,
     "tableResultSettingsMap": {},
     "title": ""
    }
   },
   "outputs": [],
   "source": [
    "from pyspark.sql.functions import when, col\n",
    "\n",
    "\n",
    "fato_partida_df = (\n",
    "    df_clean\n",
    "    .join(\n",
    "        dim_time_df.withColumnRenamed(\"nome_time\", \"home_team\")\n",
    "                   .withColumnRenamed(\"id_time\", \"id_time_mandante\"),\n",
    "        on=\"home_team\", how=\"left\"\n",
    "    )\n",
    "    .join(\n",
    "        dim_time_df.withColumnRenamed(\"nome_time\", \"away_team\")\n",
    "                   .withColumnRenamed(\"id_time\", \"id_time_visitante\"),\n",
    "        on=\"away_team\", how=\"left\"\n",
    "    )\n",
    "    .join(dim_tempo_df.withColumnRenamed(\"date\", \"date_tempo\"), df_clean[\"date\"] == col(\"date_tempo\"), \"left\")\n",
    "    .join(dim_partida_df, on=[\"link_match\", \"season\", \"date\", \"home_team\", \"away_team\", \"result_full\"], how=\"left\")\n",
    "    .join(dim_local_df.withColumnRenamed(\"desc_local\", \"local\"), on=\"local\", how=\"left\")\n",
    ")\n",
    "\n",
    "fato_partida_df = fato_partida_df.withColumn(\n",
    "    \"resultado_mandante\",\n",
    "    when(col(\"goal_home_ft\") > col(\"goal_away_ft\"), \"V\")\n",
    "    .when(col(\"goal_home_ft\") == col(\"goal_away_ft\"), \"E\")\n",
    "    .otherwise(\"D\")\n",
    ")\n"
   ]
  },
  {
   "cell_type": "code",
   "execution_count": 0,
   "metadata": {
    "application/vnd.databricks.v1+cell": {
     "cellMetadata": {
      "byteLimit": 2048000,
      "rowLimit": 10000
     },
     "inputWidgets": {},
     "nuid": "fcd4498a-7e8f-4896-9ed0-f5061813731b",
     "showTitle": false,
     "tableResultSettingsMap": {},
     "title": ""
    }
   },
   "outputs": [],
   "source": [
    "fato_partida_df = fato_partida_df.select(\n",
    "    \"id_time_mandante\",\n",
    "    \"id_time_visitante\",\n",
    "    \"id_tempo\",\n",
    "    \"id_partida\",\n",
    "    \"id_local\",\n",
    "    \"result_full\",\n",
    "    \"resultado_mandante\",\n",
    "    \"goal_home_ft\",\n",
    "    \"goal_away_ft\",\n",
    "    \"home_possession\",\n",
    "    \"away_possession\",\n",
    "    \"home_shots\",\n",
    "    \"away_shots\",\n",
    "    \"home_passes\",\n",
    "    \"away_passes\",\n",
    "    \"home_yellow_cards\",\n",
    "    \"away_yellow_cards\",\n",
    "    \"home_red_cards\",\n",
    "    \"away_red_cards\"\n",
    ")\n",
    "\n",
    "display(fato_partida_df)\n"
   ]
  },
  {
   "cell_type": "code",
   "execution_count": 0,
   "metadata": {
    "application/vnd.databricks.v1+cell": {
     "cellMetadata": {
      "byteLimit": 2048000,
      "rowLimit": 10000
     },
     "inputWidgets": {},
     "nuid": "8cd7151b-ae92-485a-950a-0aeb842aabf3",
     "showTitle": false,
     "tableResultSettingsMap": {},
     "title": ""
    }
   },
   "outputs": [],
   "source": [
    "# Dropar tabela se já existir (boa prática)\n",
    "spark.sql(\"DROP TABLE IF EXISTS fato_partida\")\n",
    "\n",
    "# Salvar a tabela fato como Delta Table\n",
    "fato_partida_df.write \\\n",
    "    .format(\"delta\") \\\n",
    "    .mode(\"overwrite\") \\\n",
    "    .option(\"overwriteSchema\", \"true\") \\\n",
    "    .saveAsTable(\"fato_partida\")\n"
   ]
  },
  {
   "cell_type": "code",
   "execution_count": 0,
   "metadata": {
    "application/vnd.databricks.v1+cell": {
     "cellMetadata": {
      "byteLimit": 2048000,
      "implicitDf": true,
      "rowLimit": 10000
     },
     "inputWidgets": {},
     "nuid": "74636a36-016a-4600-bb8a-c8c3b3432490",
     "showTitle": false,
     "tableResultSettingsMap": {},
     "title": ""
    }
   },
   "outputs": [],
   "source": [
    "%sql\n",
    "SELECT * FROM fato_partida LIMIT 10;\n"
   ]
  },
  {
   "cell_type": "markdown",
   "metadata": {
    "application/vnd.databricks.v1+cell": {
     "cellMetadata": {
      "byteLimit": 2048000,
      "rowLimit": 10000
     },
     "inputWidgets": {},
     "nuid": "ef68ca4d-d91f-423e-b94e-e1356119ced7",
     "showTitle": false,
     "tableResultSettingsMap": {},
     "title": ""
    }
   },
   "source": [
    "# Analises de negocios "
   ]
  },
  {
   "cell_type": "markdown",
   "metadata": {
    "application/vnd.databricks.v1+cell": {
     "cellMetadata": {
      "byteLimit": 2048000,
      "rowLimit": 10000
     },
     "inputWidgets": {},
     "nuid": "b85d7921-4a07-4d68-ad63-779f1eb77ccd",
     "showTitle": false,
     "tableResultSettingsMap": {},
     "title": ""
    }
   },
   "source": [
    "## Respondendo a perguntas de negocio:"
   ]
  },
  {
   "cell_type": "markdown",
   "metadata": {
    "application/vnd.databricks.v1+cell": {
     "cellMetadata": {
      "byteLimit": 2048000,
      "rowLimit": 10000
     },
     "inputWidgets": {},
     "nuid": "1cb66dc3-9094-4406-9080-9a7dc9de6634",
     "showTitle": false,
     "tableResultSettingsMap": {},
     "title": ""
    }
   },
   "source": [
    "### Quais times mandantes mais venceram partidas?"
   ]
  },
  {
   "cell_type": "code",
   "execution_count": 0,
   "metadata": {
    "application/vnd.databricks.v1+cell": {
     "cellMetadata": {
      "byteLimit": 2048000,
      "implicitDf": true,
      "rowLimit": 10000
     },
     "inputWidgets": {},
     "nuid": "ce73e631-7f68-4132-ae02-6d763eb19102",
     "showTitle": false,
     "tableResultSettingsMap": {},
     "title": ""
    }
   },
   "outputs": [],
   "source": [
    "%sql\n",
    "SELECT \n",
    "  t.nome_time AS time_mandante,\n",
    "  COUNT(*) AS total_vitorias\n",
    "FROM fato_partida f\n",
    "JOIN dim_time t ON f.id_time_mandante = t.id_time\n",
    "WHERE resultado_mandante = 'V'\n",
    "GROUP BY t.nome_time\n",
    "ORDER BY total_vitorias DESC\n",
    "LIMIT 10\n",
    "\n",
    "\n"
   ]
  },
  {
   "cell_type": "markdown",
   "metadata": {
    "application/vnd.databricks.v1+cell": {
     "cellMetadata": {
      "byteLimit": 2048000,
      "rowLimit": 10000
     },
     "inputWidgets": {},
     "nuid": "3a22ac5a-054d-44e0-b4b1-2d545bb04608",
     "showTitle": false,
     "tableResultSettingsMap": {},
     "title": ""
    }
   },
   "source": [
    "### Qual a média de posse de bola dos times mandantes e visitantes nas partidas?"
   ]
  },
  {
   "cell_type": "code",
   "execution_count": 0,
   "metadata": {
    "application/vnd.databricks.v1+cell": {
     "cellMetadata": {
      "byteLimit": 2048000,
      "implicitDf": true,
      "rowLimit": 10000
     },
     "inputWidgets": {},
     "nuid": "f74b4de2-415a-4192-94ae-da5056133f4e",
     "showTitle": false,
     "tableResultSettingsMap": {},
     "title": ""
    }
   },
   "outputs": [],
   "source": [
    "%sql\n",
    "SELECT \n",
    "  resultado_mandante,\n",
    "  ROUND(AVG(home_possession), 2) AS media_posse_mandante\n",
    "FROM fato_partida\n",
    "GROUP BY resultado_mandante\n"
   ]
  },
  {
   "cell_type": "code",
   "execution_count": 0,
   "metadata": {
    "application/vnd.databricks.v1+cell": {
     "cellMetadata": {
      "byteLimit": 2048000,
      "rowLimit": 10000
     },
     "inputWidgets": {},
     "nuid": "c6fd7547-6dbd-49a0-955e-977d0b50ca5b",
     "showTitle": false,
     "tableResultSettingsMap": {},
     "title": ""
    }
   },
   "outputs": [],
   "source": [
    "# Média de posse de bola dos mandantes por resultado\n",
    "grafico_posse = (\n",
    "    spark.table(\"fato_partida\")\n",
    "    .groupBy(\"resultado_mandante\")\n",
    "    .agg({\"home_possession\": \"avg\"})\n",
    "    .withColumnRenamed(\"avg(home_possession)\", \"media_posse_mandante\")\n",
    "    .orderBy(\"resultado_mandante\")\n",
    ")\n",
    "\n",
    "# Exibir como gráfico no Databricks\n",
    "display(grafico_posse)\n"
   ]
  },
  {
   "cell_type": "markdown",
   "metadata": {
    "application/vnd.databricks.v1+cell": {
     "cellMetadata": {
      "byteLimit": 2048000,
      "rowLimit": 10000
     },
     "inputWidgets": {},
     "nuid": "3a1c2c6b-41b8-441b-8c20-564b0ed927f8",
     "showTitle": false,
     "tableResultSettingsMap": {},
     "title": ""
    }
   },
   "source": [
    "### Quem leva mais cartões vermelhos: mandantes ou visitantes?"
   ]
  },
  {
   "cell_type": "code",
   "execution_count": 0,
   "metadata": {
    "application/vnd.databricks.v1+cell": {
     "cellMetadata": {
      "byteLimit": 2048000,
      "implicitDf": true,
      "rowLimit": 10000
     },
     "inputWidgets": {},
     "nuid": "b108aae5-ac63-439f-afc3-95c453a4cc91",
     "showTitle": false,
     "tableResultSettingsMap": {},
     "title": ""
    }
   },
   "outputs": [],
   "source": [
    "%sql\n",
    "SELECT \n",
    "  ROUND(AVG(home_red_cards), 2) AS media_vermelhos_mandantes,\n",
    "  ROUND(AVG(away_red_cards), 2) AS media_vermelhos_visitantes\n",
    "FROM fato_partida\n"
   ]
  },
  {
   "cell_type": "code",
   "execution_count": 0,
   "metadata": {
    "application/vnd.databricks.v1+cell": {
     "cellMetadata": {
      "byteLimit": 2048000,
      "rowLimit": 10000
     },
     "inputWidgets": {},
     "nuid": "db1f2fa3-8b32-4e7a-b018-436a51df5e2d",
     "showTitle": false,
     "tableResultSettingsMap": {},
     "title": ""
    }
   },
   "outputs": [],
   "source": [
    "grafico_cartoes = (\n",
    "    spark.table(\"fato_partida\")\n",
    "    .agg(\n",
    "        {\"home_red_cards\": \"avg\", \"away_red_cards\": \"avg\"}\n",
    "    )\n",
    "    .withColumnRenamed(\"avg(home_red_cards)\", \"Mandante\") \\\n",
    "    .withColumnRenamed(\"avg(away_red_cards)\", \"Visitante\")\n",
    ")\n",
    "\n",
    "# Para transformar colunas em linhas e facilitar o gráfico\n",
    "from pyspark.sql.functions import lit\n",
    "\n",
    "grafico_final = grafico_cartoes.selectExpr(\"Mandante as media\", \"'Mandante' as tipo\") \\\n",
    "    .union(\n",
    "        grafico_cartoes.selectExpr(\"Visitante as media\", \"'Visitante' as tipo\")\n",
    "    )\n",
    "\n",
    "# Exibe gráfico de barras\n",
    "display(grafico_final)\n"
   ]
  }
 ],
 "metadata": {
  "application/vnd.databricks.v1+notebook": {
   "computePreferences": null,
   "dashboards": [],
   "environmentMetadata": {
    "base_environment": "",
    "environment_version": "1"
   },
   "inputWidgetPreferences": null,
   "language": "python",
   "notebookMetadata": {
    "mostRecentlyExecutedCommandWithImplicitDF": {
     "commandId": 24443571969192,
     "dataframes": [
      "_sqldf"
     ]
    },
    "pythonIndentUnit": 4
   },
   "notebookName": "Sprint_III_Futebol",
   "widgets": {}
  }
 },
 "nbformat": 4,
 "nbformat_minor": 0
}